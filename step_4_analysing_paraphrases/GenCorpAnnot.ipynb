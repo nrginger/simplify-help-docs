{
 "cells": [
  {
   "cell_type": "code",
   "execution_count": 1,
   "id": "99e71fbb-075f-4c0a-b690-f442663db259",
   "metadata": {},
   "outputs": [
    {
     "name": "stdout",
     "output_type": "stream",
     "text": [
      "Requirement already satisfied: pandas in /opt/anaconda3/lib/python3.12/site-packages (2.2.2)\n",
      "Requirement already satisfied: spacy in /opt/anaconda3/lib/python3.12/site-packages (3.8.4)\n",
      "Requirement already satisfied: tqdm in /opt/anaconda3/lib/python3.12/site-packages (4.66.5)\n",
      "Requirement already satisfied: numpy>=1.26.0 in /opt/anaconda3/lib/python3.12/site-packages (from pandas) (1.26.4)\n",
      "Requirement already satisfied: python-dateutil>=2.8.2 in /opt/anaconda3/lib/python3.12/site-packages (from pandas) (2.9.0.post0)\n",
      "Requirement already satisfied: pytz>=2020.1 in /opt/anaconda3/lib/python3.12/site-packages (from pandas) (2024.1)\n",
      "Requirement already satisfied: tzdata>=2022.7 in /opt/anaconda3/lib/python3.12/site-packages (from pandas) (2023.3)\n",
      "Requirement already satisfied: spacy-legacy<3.1.0,>=3.0.11 in /opt/anaconda3/lib/python3.12/site-packages (from spacy) (3.0.12)\n",
      "Requirement already satisfied: spacy-loggers<2.0.0,>=1.0.0 in /opt/anaconda3/lib/python3.12/site-packages (from spacy) (1.0.5)\n",
      "Requirement already satisfied: murmurhash<1.1.0,>=0.28.0 in /opt/anaconda3/lib/python3.12/site-packages (from spacy) (1.0.12)\n",
      "Requirement already satisfied: cymem<2.1.0,>=2.0.2 in /opt/anaconda3/lib/python3.12/site-packages (from spacy) (2.0.11)\n",
      "Requirement already satisfied: preshed<3.1.0,>=3.0.2 in /opt/anaconda3/lib/python3.12/site-packages (from spacy) (3.0.9)\n",
      "Requirement already satisfied: thinc<8.4.0,>=8.3.4 in /opt/anaconda3/lib/python3.12/site-packages (from spacy) (8.3.4)\n",
      "Requirement already satisfied: wasabi<1.2.0,>=0.9.1 in /opt/anaconda3/lib/python3.12/site-packages (from spacy) (1.1.3)\n",
      "Requirement already satisfied: srsly<3.0.0,>=2.4.3 in /opt/anaconda3/lib/python3.12/site-packages (from spacy) (2.5.1)\n",
      "Requirement already satisfied: catalogue<2.1.0,>=2.0.6 in /opt/anaconda3/lib/python3.12/site-packages (from spacy) (2.0.10)\n",
      "Requirement already satisfied: weasel<0.5.0,>=0.1.0 in /opt/anaconda3/lib/python3.12/site-packages (from spacy) (0.4.1)\n",
      "Requirement already satisfied: typer<1.0.0,>=0.3.0 in /opt/anaconda3/lib/python3.12/site-packages (from spacy) (0.9.0)\n",
      "Requirement already satisfied: requests<3.0.0,>=2.13.0 in /opt/anaconda3/lib/python3.12/site-packages (from spacy) (2.32.3)\n",
      "Requirement already satisfied: pydantic!=1.8,!=1.8.1,<3.0.0,>=1.7.4 in /opt/anaconda3/lib/python3.12/site-packages (from spacy) (2.8.2)\n",
      "Requirement already satisfied: jinja2 in /opt/anaconda3/lib/python3.12/site-packages (from spacy) (3.1.4)\n",
      "Requirement already satisfied: setuptools in /opt/anaconda3/lib/python3.12/site-packages (from spacy) (75.1.0)\n",
      "Requirement already satisfied: packaging>=20.0 in /opt/anaconda3/lib/python3.12/site-packages (from spacy) (24.1)\n",
      "Requirement already satisfied: langcodes<4.0.0,>=3.2.0 in /opt/anaconda3/lib/python3.12/site-packages (from spacy) (3.5.0)\n",
      "Requirement already satisfied: language-data>=1.2 in /opt/anaconda3/lib/python3.12/site-packages (from langcodes<4.0.0,>=3.2.0->spacy) (1.3.0)\n",
      "Requirement already satisfied: annotated-types>=0.4.0 in /opt/anaconda3/lib/python3.12/site-packages (from pydantic!=1.8,!=1.8.1,<3.0.0,>=1.7.4->spacy) (0.6.0)\n",
      "Requirement already satisfied: pydantic-core==2.20.1 in /opt/anaconda3/lib/python3.12/site-packages (from pydantic!=1.8,!=1.8.1,<3.0.0,>=1.7.4->spacy) (2.20.1)\n",
      "Requirement already satisfied: typing-extensions>=4.6.1 in /opt/anaconda3/lib/python3.12/site-packages (from pydantic!=1.8,!=1.8.1,<3.0.0,>=1.7.4->spacy) (4.11.0)\n",
      "Requirement already satisfied: six>=1.5 in /opt/anaconda3/lib/python3.12/site-packages (from python-dateutil>=2.8.2->pandas) (1.16.0)\n",
      "Requirement already satisfied: charset-normalizer<4,>=2 in /opt/anaconda3/lib/python3.12/site-packages (from requests<3.0.0,>=2.13.0->spacy) (3.3.2)\n",
      "Requirement already satisfied: idna<4,>=2.5 in /opt/anaconda3/lib/python3.12/site-packages (from requests<3.0.0,>=2.13.0->spacy) (3.7)\n",
      "Requirement already satisfied: urllib3<3,>=1.21.1 in /opt/anaconda3/lib/python3.12/site-packages (from requests<3.0.0,>=2.13.0->spacy) (2.2.3)\n",
      "Requirement already satisfied: certifi>=2017.4.17 in /opt/anaconda3/lib/python3.12/site-packages (from requests<3.0.0,>=2.13.0->spacy) (2025.1.31)\n",
      "Requirement already satisfied: blis<1.3.0,>=1.2.0 in /opt/anaconda3/lib/python3.12/site-packages (from thinc<8.4.0,>=8.3.4->spacy) (1.2.0)\n",
      "Requirement already satisfied: confection<1.0.0,>=0.0.1 in /opt/anaconda3/lib/python3.12/site-packages (from thinc<8.4.0,>=8.3.4->spacy) (0.1.5)\n",
      "Requirement already satisfied: click<9.0.0,>=7.1.1 in /opt/anaconda3/lib/python3.12/site-packages (from typer<1.0.0,>=0.3.0->spacy) (8.1.7)\n",
      "Requirement already satisfied: cloudpathlib<1.0.0,>=0.7.0 in /opt/anaconda3/lib/python3.12/site-packages (from weasel<0.5.0,>=0.1.0->spacy) (0.21.0)\n",
      "Requirement already satisfied: smart-open<8.0.0,>=5.2.1 in /opt/anaconda3/lib/python3.12/site-packages (from weasel<0.5.0,>=0.1.0->spacy) (5.2.1)\n",
      "Requirement already satisfied: MarkupSafe>=2.0 in /opt/anaconda3/lib/python3.12/site-packages (from jinja2->spacy) (2.1.3)\n",
      "Requirement already satisfied: marisa-trie>=1.1.0 in /opt/anaconda3/lib/python3.12/site-packages (from language-data>=1.2->langcodes<4.0.0,>=3.2.0->spacy) (1.2.1)\n",
      "Collecting ru-core-news-md==3.8.0\n",
      "  Downloading https://github.com/explosion/spacy-models/releases/download/ru_core_news_md-3.8.0/ru_core_news_md-3.8.0-py3-none-any.whl (41.9 MB)\n",
      "\u001b[2K     \u001b[90m━━━━━━━━━━━━━━━━━━━━━━━━━━━━━━━━━━━━━━━━\u001b[0m \u001b[32m41.9/41.9 MB\u001b[0m \u001b[31m2.9 MB/s\u001b[0m eta \u001b[36m0:00:00\u001b[0m00:01\u001b[0m00:01\u001b[0mm\n",
      "\u001b[?25hRequirement already satisfied: pymorphy3>=1.0.0 in /opt/anaconda3/lib/python3.12/site-packages (from ru-core-news-md==3.8.0) (2.0.3)\n",
      "Requirement already satisfied: dawg2-python>=0.8.0 in /opt/anaconda3/lib/python3.12/site-packages (from pymorphy3>=1.0.0->ru-core-news-md==3.8.0) (0.9.0)\n",
      "Requirement already satisfied: pymorphy3-dicts-ru in /opt/anaconda3/lib/python3.12/site-packages (from pymorphy3>=1.0.0->ru-core-news-md==3.8.0) (2.4.417150.4580142)\n",
      "Requirement already satisfied: setuptools>=68.2.2 in /opt/anaconda3/lib/python3.12/site-packages (from pymorphy3>=1.0.0->ru-core-news-md==3.8.0) (75.1.0)\n",
      "\u001b[38;5;2m✔ Download and installation successful\u001b[0m\n",
      "You can now load the package via spacy.load('ru_core_news_md')\n"
     ]
    }
   ],
   "source": [
    "!pip install pandas spacy tqdm\n",
    "!python -m spacy download ru_core_news_md"
   ]
  },
  {
   "cell_type": "code",
   "execution_count": 1,
   "id": "4015442c-3a0c-4641-8abc-92508dbd666e",
   "metadata": {},
   "outputs": [],
   "source": [
    "import pandas as pd\n",
    "import os\n",
    "import glob\n",
    "import spacy\n",
    "import json\n",
    "from tqdm import tqdm"
   ]
  },
  {
   "cell_type": "code",
   "execution_count": 3,
   "id": "2e52a065-18ca-4633-817b-bf7b680f4e18",
   "metadata": {},
   "outputs": [],
   "source": [
    "# 1. Объединение CSV файлов из директории GenCorpus\n",
    "directory = 'GenCorpus'\n",
    "output_file = os.path.join(directory, 'combined_data.csv')"
   ]
  },
  {
   "cell_type": "code",
   "execution_count": 5,
   "id": "b010882d-913e-4542-8fbf-13fadfe1ce68",
   "metadata": {},
   "outputs": [
    {
     "name": "stdout",
     "output_type": "stream",
     "text": [
      "Найдено 10 CSV файлов\n"
     ]
    }
   ],
   "source": [
    "all_data = []\n",
    "csv_files = glob.glob(os.path.join(directory, '*.csv'))\n",
    "print(f\"Найдено {len(csv_files)} CSV файлов\")"
   ]
  },
  {
   "cell_type": "code",
   "execution_count": 7,
   "id": "81519967-91e4-40e7-8b6a-9106570c1264",
   "metadata": {},
   "outputs": [
    {
     "name": "stdout",
     "output_type": "stream",
     "text": [
      "Добавлен файл: GenCorpus/gpt_3_paraphrased.csv, форма: (1096, 2)\n",
      "Добавлен файл: GenCorpus/claude_2_paraphrased.csv, форма: (1096, 2)\n",
      "Добавлен файл: GenCorpus/gpt_2_paraphrased.csv, форма: (1095, 2)\n",
      "Добавлен файл: GenCorpus/deepseek_1_paraphrased.csv, форма: (1096, 2)\n",
      "Добавлен файл: GenCorpus/deepseek_paraphrased.csv, форма: (1096, 2)\n",
      "Добавлен файл: GenCorpus/gemini_1_paraphrased.csv, форма: (1085, 2)\n",
      "Добавлен файл: GenCorpus/gpt_1_paraphrased.csv, форма: (1096, 2)\n",
      "Добавлен файл: GenCorpus/deepseek_2_paraphrased.csv, форма: (1102, 2)\n",
      "Добавлен файл: GenCorpus/llama_paraphrased.csv, форма: (1077, 2)\n",
      "Добавлен файл: GenCorpus/claude_1_paraphrased.csv, форма: (1096, 2)\n",
      "Данные объединены и сохранены в GenCorpus/combined_data.csv, итоговая форма: (10935, 2)\n"
     ]
    }
   ],
   "source": [
    "for file in csv_files:\n",
    "    df = pd.read_csv(file)\n",
    "    all_data.append(df)\n",
    "    print(f\"Добавлен файл: {file}, форма: {df.shape}\")\n",
    "\n",
    "combined_df = pd.concat(all_data, ignore_index=True)\n",
    "combined_df = combined_df.sample(frac=1, random_state=42).reset_index(drop=True)\n",
    "combined_df.to_csv(output_file, index=False)\n",
    "print(f\"Данные объединены и сохранены в {output_file}, итоговая форма: {combined_df.shape}\")"
   ]
  },
  {
   "cell_type": "code",
   "execution_count": 11,
   "id": "9c9e3ecf-03d8-4f34-9aca-eed22c4b83f1",
   "metadata": {},
   "outputs": [],
   "source": [
    "# 2. Аннотация второй колонки с помощью spaCy\n",
    "nlp = spacy.load(\"ru_core_news_md\")\n",
    "\n",
    "# Создаем список для хранения аннотаций в JSON-совместимом формате\n",
    "annotations_data = []"
   ]
  },
  {
   "cell_type": "code",
   "execution_count": 13,
   "id": "3b85dbdf-0244-4ef7-bedd-0906fc2ecbec",
   "metadata": {},
   "outputs": [
    {
     "name": "stdout",
     "output_type": "stream",
     "text": [
      "Выполняем аннотацию с помощью spaCy...\n"
     ]
    },
    {
     "name": "stderr",
     "output_type": "stream",
     "text": [
      "100%|█████████████████████████████████████| 10935/10935 [06:56<00:00, 26.25it/s]\n"
     ]
    }
   ],
   "source": [
    "print(\"Выполняем аннотацию с помощью spaCy...\")\n",
    "for i, text in enumerate(tqdm(combined_df['paraphrased_text'])):\n",
    "    doc = nlp(text)\n",
    "    \n",
    "    # Преобразуем данные spaCy в JSON-совместимый формат\n",
    "    tokens = [{\"text\": token.text, \n",
    "               \"lemma\": token.lemma_, \n",
    "               \"pos\": token.pos_, \n",
    "               \"tag\": token.tag_,\n",
    "               \"dep\": token.dep_,\n",
    "               \"is_stop\": token.is_stop} for token in doc]\n",
    "    \n",
    "    entities = [{\"text\": ent.text, \n",
    "                 \"start\": ent.start_char, \n",
    "                 \"end\": ent.end_char, \n",
    "                 \"label\": ent.label_} for ent in doc.ents]\n",
    "    \n",
    "    annotations_data.append({\n",
    "        \"original_text\": combined_df['original_text'][i],\n",
    "        \"paraphrased_text\": text,\n",
    "        \"tokens\": tokens,\n",
    "        \"entities\": entities\n",
    "    })"
   ]
  },
  {
   "cell_type": "code",
   "execution_count": 15,
   "id": "a5bffaf7-5e19-46c8-bf49-02637d41a874",
   "metadata": {},
   "outputs": [
    {
     "name": "stdout",
     "output_type": "stream",
     "text": [
      "Аннотированные данные сохранены в GenCorpus/annotated_data.json\n"
     ]
    }
   ],
   "source": [
    "# Сохраняем аннотированные данные в JSON\n",
    "annotated_file = os.path.join(directory, 'annotated_data.json')\n",
    "with open(annotated_file, 'w', encoding='utf-8') as f:\n",
    "    json.dump(annotations_data, f, ensure_ascii=False, indent=2)\n",
    "\n",
    "print(f\"Аннотированные данные сохранены в {annotated_file}\")"
   ]
  },
  {
   "cell_type": "code",
   "execution_count": null,
   "id": "7b7a5b9f-48ba-4560-808a-5804495d03c5",
   "metadata": {},
   "outputs": [],
   "source": []
  }
 ],
 "metadata": {
  "kernelspec": {
   "display_name": "Python [conda env:base] *",
   "language": "python",
   "name": "conda-base-py"
  },
  "language_info": {
   "codemirror_mode": {
    "name": "ipython",
    "version": 3
   },
   "file_extension": ".py",
   "mimetype": "text/x-python",
   "name": "python",
   "nbconvert_exporter": "python",
   "pygments_lexer": "ipython3",
   "version": "3.12.7"
  }
 },
 "nbformat": 4,
 "nbformat_minor": 5
}
