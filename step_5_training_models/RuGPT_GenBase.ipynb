{
 "cells": [
  {
   "cell_type": "code",
   "execution_count": 20,
   "id": "686f0b14-4536-4820-94cd-521f62a50a3c",
   "metadata": {},
   "outputs": [],
   "source": [
    "# pip нужно только один раз внутри venv/conda\n",
    "# !pip install -U transformers peft pandas openpyxl tqdm sentencepiece\n",
    "\n",
    "import torch, pandas as pd, numpy as np, tqdm\n",
    "from transformers import AutoTokenizer, AutoModelForCausalLM\n",
    "from peft import PeftModel\n",
    "from pathlib import Path\n",
    "\n",
    "# ───── файлы ────────────────────────────────────────────────\n",
    "BASE_ID       = \"sberbank-ai/rugpt3small_based_on_gpt2\"\n",
    "ADAPTER_DIR   = Path(\"rugpt3_lora_adapter\")          # где вы сохранили LoRA\n",
    "SRC_XLSX      = Path(\"unique_texts_200_formatted_golden_standard.xlsx\")\n",
    "DST_XLSX      = Path(\"unique_texts_200_formatted_golden_standard_rugpt_v2.xlsx\")"
   ]
  },
  {
   "cell_type": "code",
   "execution_count": 22,
   "id": "88ee938d-51f4-40d2-8361-43305305281a",
   "metadata": {},
   "outputs": [
    {
     "name": "stdout",
     "output_type": "stream",
     "text": [
      "✅ модель и LoRA на mps\n"
     ]
    }
   ],
   "source": [
    "device = torch.device(\"mps\" if torch.backends.mps.is_available() else \"cpu\")\n",
    "\n",
    "tok = AutoTokenizer.from_pretrained(BASE_ID, use_fast=True)\n",
    "tok.pad_token = tok.eos_token          # GPT-семейство не знает PAD\n",
    "\n",
    "base = AutoModelForCausalLM.from_pretrained(\n",
    "    BASE_ID,\n",
    "    torch_dtype=torch.float16,         # MPS работает быстрее на fp16\n",
    ").to(device)\n",
    "\n",
    "model = PeftModel.from_pretrained(base, ADAPTER_DIR)\n",
    "model.eval()\n",
    "print(\"✅ модель и LoRA на\", device)"
   ]
  },
  {
   "cell_type": "code",
   "execution_count": 24,
   "id": "76b2e4c7-47df-4eaf-b5a2-c0261606b9fc",
   "metadata": {},
   "outputs": [],
   "source": [
    "PROMPT = \"Упрости текст, сохраняя смысл:\\n\\n{src}\\n\\nУпрощённая версия:\"\n",
    "\n",
    "@torch.inference_mode()\n",
    "def simplify(text, temp=0.7, top_p=0.9, max_new=512):\n",
    "    prompt = PROMPT.format(src=text)\n",
    "    ids = tok(prompt, return_tensors=\"pt\").to(device)\n",
    "    gen = model.generate(\n",
    "        **ids,\n",
    "        do_sample=True,\n",
    "        temperature=temp,           # ↑ температура → меньше копипаста\n",
    "        top_p=top_p,\n",
    "        repetition_penalty=1.2,     # штраф за повтор слова\n",
    "        no_repeat_ngram_size=4,     # запрет 4-грамм\n",
    "        max_new_tokens=max_new,\n",
    "        eos_token_id=tok.eos_token_id,\n",
    "    )\n",
    "    return tok.decode(gen[0], skip_special_tokens=True)\\\n",
    "             .split(\"Упрощённая версия:\")[-1].strip()"
   ]
  },
  {
   "cell_type": "code",
   "execution_count": 26,
   "id": "6a3145d5-4fb9-4d10-930a-18abe0c4ca45",
   "metadata": {},
   "outputs": [
    {
     "name": "stderr",
     "output_type": "stream",
     "text": [
      "Генерирую:   0%|                                        | 0/171 [00:00<?, ?it/s]/var/folders/0v/tzcygl612vvdz00kp8wyv3th0000gn/T/ipykernel_48238/1220501331.py:14: FutureWarning: Setting an item of incompatible dtype is deprecated and will raise an error in a future version of pandas. Value '## Как настроить подключение к Интернету через панель настроек  \n",
      "   - Вводите код активации **Запуск панели** или **Вход\"**;   - Во всплывающем списке выбираете пункт **Свойство \"Паркнет\".** Затем нажмите кнопку **«Очистить компьютер»** – откроется окошко с правами администратора доступа. Вход открывается только после того как вы активируете приложение «Паркет». Теперь система будет работать без сбоев и зависаний.' has dtype incompatible with float64, please explicitly cast to a compatible dtype first.\n",
      "  df.at[i, out_col] = simplify(src_text)\n",
      "Генерирую: 100%|██████████████████████████████| 171/171 [12:11<00:00,  4.28s/it]"
     ]
    },
    {
     "name": "stdout",
     "output_type": "stream",
     "text": [
      "🎉  Всё готово → unique_texts_200_formatted_golden_standard_rugpt_v2.xlsx\n"
     ]
    },
    {
     "name": "stderr",
     "output_type": "stream",
     "text": [
      "\n"
     ]
    }
   ],
   "source": [
    "# читаем исходный файл\n",
    "df = pd.read_excel(SRC_XLSX)\n",
    "\n",
    "# создаём столбец, если его нет\n",
    "out_col = \"finetuned_model_rugpt\"\n",
    "if out_col not in df.columns:\n",
    "    df[out_col] = np.nan\n",
    "\n",
    "# цикл с автосохранением после каждой строки\n",
    "for i in tqdm.tqdm(range(len(df)), desc=\"Генерирую\"):\n",
    "    if pd.isna(df.at[i, out_col]):\n",
    "        try:\n",
    "            src_text = str(df.iloc[i, 0])            # первый столбец\n",
    "            df.at[i, out_col] = simplify(src_text)\n",
    "        except Exception as e:\n",
    "            df.at[i, out_col] = f\"[ERROR: {e}]\"\n",
    "    df.to_excel(DST_XLSX, index=False)               # сохраняем на каждом шаге\n",
    "\n",
    "print(\"🎉  Всё готово →\", DST_XLSX)\n"
   ]
  },
  {
   "cell_type": "code",
   "execution_count": 1,
   "id": "893c7609-bef6-4ae0-aba7-c23a95eccf74",
   "metadata": {},
   "outputs": [
    {
     "name": "stdout",
     "output_type": "stream",
     "text": [
      "✅ базовая модель загружена на mps\n"
     ]
    },
    {
     "name": "stderr",
     "output_type": "stream",
     "text": [
      "Генерирую базовой моделью:   0%|                        | 0/171 [00:00<?, ?it/s]"
     ]
    },
    {
     "name": "stdout",
     "output_type": "stream",
     "text": [
      "\n",
      "Обрабатываю текст 1/171\n"
     ]
    },
    {
     "name": "stderr",
     "output_type": "stream",
     "text": [
      "Генерирую базовой моделью:   1%|                | 1/171 [00:08<24:08,  8.52s/it]"
     ]
    },
    {
     "name": "stdout",
     "output_type": "stream",
     "text": [
      "\n",
      "Обрабатываю текст 2/171\n"
     ]
    },
    {
     "name": "stderr",
     "output_type": "stream",
     "text": [
      "Генерирую базовой моделью:   1%|▏               | 2/171 [00:23<33:56, 12.05s/it]"
     ]
    },
    {
     "name": "stdout",
     "output_type": "stream",
     "text": [
      "\n",
      "Обрабатываю текст 3/171\n"
     ]
    },
    {
     "name": "stderr",
     "output_type": "stream",
     "text": [
      "Генерирую базовой моделью:   2%|▎               | 3/171 [00:36<35:04, 12.53s/it]"
     ]
    },
    {
     "name": "stdout",
     "output_type": "stream",
     "text": [
      "\n",
      "Обрабатываю текст 4/171\n"
     ]
    },
    {
     "name": "stderr",
     "output_type": "stream",
     "text": [
      "Генерирую базовой моделью:   2%|▎               | 4/171 [00:48<35:08, 12.63s/it]"
     ]
    },
    {
     "name": "stdout",
     "output_type": "stream",
     "text": [
      "\n",
      "Обрабатываю текст 5/171\n"
     ]
    },
    {
     "name": "stderr",
     "output_type": "stream",
     "text": [
      "Генерирую базовой моделью:   3%|▍               | 5/171 [01:01<35:08, 12.70s/it]"
     ]
    },
    {
     "name": "stdout",
     "output_type": "stream",
     "text": [
      "\n",
      "Обрабатываю текст 6/171\n"
     ]
    },
    {
     "name": "stderr",
     "output_type": "stream",
     "text": [
      "Генерирую базовой моделью:   4%|▌               | 6/171 [01:15<35:54, 13.06s/it]"
     ]
    },
    {
     "name": "stdout",
     "output_type": "stream",
     "text": [
      "\n",
      "Обрабатываю текст 7/171\n"
     ]
    },
    {
     "name": "stderr",
     "output_type": "stream",
     "text": [
      "Генерирую базовой моделью:   4%|▋               | 7/171 [01:28<35:33, 13.01s/it]"
     ]
    },
    {
     "name": "stdout",
     "output_type": "stream",
     "text": [
      "\n",
      "Обрабатываю текст 8/171\n"
     ]
    },
    {
     "name": "stderr",
     "output_type": "stream",
     "text": [
      "Генерирую базовой моделью:   5%|▋               | 8/171 [01:41<35:33, 13.09s/it]"
     ]
    },
    {
     "name": "stdout",
     "output_type": "stream",
     "text": [
      "\n",
      "Обрабатываю текст 9/171\n"
     ]
    },
    {
     "name": "stderr",
     "output_type": "stream",
     "text": [
      "Генерирую базовой моделью:   5%|▊               | 9/171 [01:54<35:17, 13.07s/it]"
     ]
    },
    {
     "name": "stdout",
     "output_type": "stream",
     "text": [
      "\n",
      "Обрабатываю текст 10/171\n"
     ]
    },
    {
     "name": "stderr",
     "output_type": "stream",
     "text": [
      "Генерирую базовой моделью:   6%|▉              | 10/171 [02:07<35:00, 13.04s/it]"
     ]
    },
    {
     "name": "stdout",
     "output_type": "stream",
     "text": [
      "\n",
      "Обрабатываю текст 11/171\n"
     ]
    },
    {
     "name": "stderr",
     "output_type": "stream",
     "text": [
      "Генерирую базовой моделью:   6%|▉              | 11/171 [02:20<34:42, 13.01s/it]"
     ]
    },
    {
     "name": "stdout",
     "output_type": "stream",
     "text": [
      "\n",
      "Обрабатываю текст 12/171\n"
     ]
    },
    {
     "name": "stderr",
     "output_type": "stream",
     "text": [
      "Генерирую базовой моделью:   7%|█              | 12/171 [02:33<34:18, 12.95s/it]"
     ]
    },
    {
     "name": "stdout",
     "output_type": "stream",
     "text": [
      "\n",
      "Обрабатываю текст 13/171\n"
     ]
    },
    {
     "name": "stderr",
     "output_type": "stream",
     "text": [
      "Генерирую базовой моделью:   8%|█▏             | 13/171 [02:46<33:57, 12.90s/it]"
     ]
    },
    {
     "name": "stdout",
     "output_type": "stream",
     "text": [
      "\n",
      "Обрабатываю текст 14/171\n"
     ]
    },
    {
     "name": "stderr",
     "output_type": "stream",
     "text": [
      "Генерирую базовой моделью:   8%|█▏             | 14/171 [02:59<33:43, 12.89s/it]"
     ]
    },
    {
     "name": "stdout",
     "output_type": "stream",
     "text": [
      "\n",
      "Обрабатываю текст 15/171\n"
     ]
    },
    {
     "name": "stderr",
     "output_type": "stream",
     "text": [
      "Генерирую базовой моделью:   9%|█▎             | 15/171 [03:11<33:24, 12.85s/it]"
     ]
    },
    {
     "name": "stdout",
     "output_type": "stream",
     "text": [
      "\n",
      "Обрабатываю текст 16/171\n"
     ]
    },
    {
     "name": "stderr",
     "output_type": "stream",
     "text": [
      "Генерирую базовой моделью:   9%|█▍             | 16/171 [03:24<33:18, 12.89s/it]"
     ]
    },
    {
     "name": "stdout",
     "output_type": "stream",
     "text": [
      "\n",
      "Обрабатываю текст 17/171\n"
     ]
    },
    {
     "name": "stderr",
     "output_type": "stream",
     "text": [
      "Генерирую базовой моделью:  10%|█▍             | 17/171 [03:37<33:03, 12.88s/it]"
     ]
    },
    {
     "name": "stdout",
     "output_type": "stream",
     "text": [
      "\n",
      "Обрабатываю текст 18/171\n"
     ]
    },
    {
     "name": "stderr",
     "output_type": "stream",
     "text": [
      "Генерирую базовой моделью:  11%|█▌             | 18/171 [03:51<33:13, 13.03s/it]"
     ]
    },
    {
     "name": "stdout",
     "output_type": "stream",
     "text": [
      "\n",
      "Обрабатываю текст 19/171\n"
     ]
    },
    {
     "name": "stderr",
     "output_type": "stream",
     "text": [
      "Генерирую базовой моделью:  11%|█▋             | 19/171 [04:03<32:54, 12.99s/it]"
     ]
    },
    {
     "name": "stdout",
     "output_type": "stream",
     "text": [
      "\n",
      "Обрабатываю текст 20/171\n"
     ]
    },
    {
     "name": "stderr",
     "output_type": "stream",
     "text": [
      "Генерирую базовой моделью:  12%|█▊             | 20/171 [04:16<32:41, 12.99s/it]"
     ]
    },
    {
     "name": "stdout",
     "output_type": "stream",
     "text": [
      "\n",
      "Обрабатываю текст 21/171\n"
     ]
    },
    {
     "name": "stderr",
     "output_type": "stream",
     "text": [
      "Генерирую базовой моделью:  12%|█▊             | 21/171 [04:29<32:20, 12.93s/it]"
     ]
    },
    {
     "name": "stdout",
     "output_type": "stream",
     "text": [
      "\n",
      "Обрабатываю текст 22/171\n"
     ]
    },
    {
     "name": "stderr",
     "output_type": "stream",
     "text": [
      "Генерирую базовой моделью:  13%|█▉             | 22/171 [04:42<31:55, 12.86s/it]"
     ]
    },
    {
     "name": "stdout",
     "output_type": "stream",
     "text": [
      "\n",
      "Обрабатываю текст 23/171\n"
     ]
    },
    {
     "name": "stderr",
     "output_type": "stream",
     "text": [
      "Генерирую базовой моделью:  13%|██             | 23/171 [04:55<31:37, 12.82s/it]"
     ]
    },
    {
     "name": "stdout",
     "output_type": "stream",
     "text": [
      "\n",
      "Обрабатываю текст 24/171\n"
     ]
    },
    {
     "name": "stderr",
     "output_type": "stream",
     "text": [
      "Генерирую базовой моделью:  14%|██             | 24/171 [05:07<31:23, 12.81s/it]"
     ]
    },
    {
     "name": "stdout",
     "output_type": "stream",
     "text": [
      "\n",
      "Обрабатываю текст 25/171\n"
     ]
    },
    {
     "name": "stderr",
     "output_type": "stream",
     "text": [
      "Генерирую базовой моделью:  15%|██▏            | 25/171 [05:20<31:09, 12.81s/it]"
     ]
    },
    {
     "name": "stdout",
     "output_type": "stream",
     "text": [
      "\n",
      "Обрабатываю текст 26/171\n"
     ]
    },
    {
     "name": "stderr",
     "output_type": "stream",
     "text": [
      "Генерирую базовой моделью:  15%|██▎            | 26/171 [05:33<31:00, 12.83s/it]"
     ]
    },
    {
     "name": "stdout",
     "output_type": "stream",
     "text": [
      "\n",
      "Обрабатываю текст 27/171\n"
     ]
    },
    {
     "name": "stderr",
     "output_type": "stream",
     "text": [
      "Генерирую базовой моделью:  16%|██▎            | 27/171 [05:46<30:41, 12.79s/it]"
     ]
    },
    {
     "name": "stdout",
     "output_type": "stream",
     "text": [
      "\n",
      "Обрабатываю текст 28/171\n"
     ]
    },
    {
     "name": "stderr",
     "output_type": "stream",
     "text": [
      "Генерирую базовой моделью:  16%|██▍            | 28/171 [05:59<30:28, 12.79s/it]"
     ]
    },
    {
     "name": "stdout",
     "output_type": "stream",
     "text": [
      "\n",
      "Обрабатываю текст 29/171\n"
     ]
    },
    {
     "name": "stderr",
     "output_type": "stream",
     "text": [
      "Генерирую базовой моделью:  17%|██▌            | 29/171 [06:11<30:12, 12.77s/it]"
     ]
    },
    {
     "name": "stdout",
     "output_type": "stream",
     "text": [
      "\n",
      "Обрабатываю текст 30/171\n"
     ]
    },
    {
     "name": "stderr",
     "output_type": "stream",
     "text": [
      "Генерирую базовой моделью:  18%|██▋            | 30/171 [06:24<29:59, 12.76s/it]"
     ]
    },
    {
     "name": "stdout",
     "output_type": "stream",
     "text": [
      "\n",
      "Обрабатываю текст 31/171\n"
     ]
    },
    {
     "name": "stderr",
     "output_type": "stream",
     "text": [
      "Генерирую базовой моделью:  18%|██▋            | 31/171 [06:37<29:52, 12.80s/it]"
     ]
    },
    {
     "name": "stdout",
     "output_type": "stream",
     "text": [
      "\n",
      "Обрабатываю текст 32/171\n"
     ]
    },
    {
     "name": "stderr",
     "output_type": "stream",
     "text": [
      "Генерирую базовой моделью:  19%|██▊            | 32/171 [06:50<29:43, 12.83s/it]"
     ]
    },
    {
     "name": "stdout",
     "output_type": "stream",
     "text": [
      "\n",
      "Обрабатываю текст 33/171\n"
     ]
    },
    {
     "name": "stderr",
     "output_type": "stream",
     "text": [
      "Генерирую базовой моделью:  19%|██▉            | 33/171 [07:03<29:34, 12.86s/it]"
     ]
    },
    {
     "name": "stdout",
     "output_type": "stream",
     "text": [
      "\n",
      "Обрабатываю текст 34/171\n"
     ]
    },
    {
     "name": "stderr",
     "output_type": "stream",
     "text": [
      "Генерирую базовой моделью:  20%|██▉            | 34/171 [07:16<29:32, 12.94s/it]"
     ]
    },
    {
     "name": "stdout",
     "output_type": "stream",
     "text": [
      "\n",
      "Обрабатываю текст 35/171\n"
     ]
    },
    {
     "name": "stderr",
     "output_type": "stream",
     "text": [
      "Генерирую базовой моделью:  20%|███            | 35/171 [07:29<29:09, 12.86s/it]"
     ]
    },
    {
     "name": "stdout",
     "output_type": "stream",
     "text": [
      "\n",
      "Обрабатываю текст 36/171\n"
     ]
    },
    {
     "name": "stderr",
     "output_type": "stream",
     "text": [
      "Генерирую базовой моделью:  21%|███▏           | 36/171 [07:41<28:52, 12.83s/it]"
     ]
    },
    {
     "name": "stdout",
     "output_type": "stream",
     "text": [
      "\n",
      "Обрабатываю текст 37/171\n"
     ]
    },
    {
     "name": "stderr",
     "output_type": "stream",
     "text": [
      "Генерирую базовой моделью:  22%|███▏           | 37/171 [07:54<28:35, 12.80s/it]"
     ]
    },
    {
     "name": "stdout",
     "output_type": "stream",
     "text": [
      "\n",
      "Обрабатываю текст 38/171\n"
     ]
    },
    {
     "name": "stderr",
     "output_type": "stream",
     "text": [
      "Генерирую базовой моделью:  22%|███▎           | 38/171 [08:07<28:25, 12.83s/it]"
     ]
    },
    {
     "name": "stdout",
     "output_type": "stream",
     "text": [
      "\n",
      "Обрабатываю текст 39/171\n"
     ]
    },
    {
     "name": "stderr",
     "output_type": "stream",
     "text": [
      "Генерирую базовой моделью:  23%|███▍           | 39/171 [08:20<28:17, 12.86s/it]"
     ]
    },
    {
     "name": "stdout",
     "output_type": "stream",
     "text": [
      "\n",
      "Обрабатываю текст 40/171\n"
     ]
    },
    {
     "name": "stderr",
     "output_type": "stream",
     "text": [
      "Генерирую базовой моделью:  23%|███▌           | 40/171 [08:33<28:25, 13.02s/it]"
     ]
    },
    {
     "name": "stdout",
     "output_type": "stream",
     "text": [
      "\n",
      "Обрабатываю текст 41/171\n"
     ]
    },
    {
     "name": "stderr",
     "output_type": "stream",
     "text": [
      "Генерирую базовой моделью:  24%|███▌           | 41/171 [08:46<28:14, 13.04s/it]"
     ]
    },
    {
     "name": "stdout",
     "output_type": "stream",
     "text": [
      "\n",
      "Обрабатываю текст 42/171\n"
     ]
    },
    {
     "name": "stderr",
     "output_type": "stream",
     "text": [
      "Генерирую базовой моделью:  25%|███▋           | 42/171 [09:02<29:23, 13.67s/it]"
     ]
    },
    {
     "name": "stdout",
     "output_type": "stream",
     "text": [
      "\n",
      "Обрабатываю текст 43/171\n"
     ]
    },
    {
     "name": "stderr",
     "output_type": "stream",
     "text": [
      "Генерирую базовой моделью:  25%|███▊           | 43/171 [09:14<28:39, 13.44s/it]"
     ]
    },
    {
     "name": "stdout",
     "output_type": "stream",
     "text": [
      "\n",
      "Обрабатываю текст 44/171\n"
     ]
    },
    {
     "name": "stderr",
     "output_type": "stream",
     "text": [
      "Генерирую базовой моделью:  26%|███▊           | 44/171 [09:27<27:58, 13.22s/it]"
     ]
    },
    {
     "name": "stdout",
     "output_type": "stream",
     "text": [
      "\n",
      "Обрабатываю текст 45/171\n"
     ]
    },
    {
     "name": "stderr",
     "output_type": "stream",
     "text": [
      "Генерирую базовой моделью:  26%|███▉           | 45/171 [09:40<27:33, 13.12s/it]"
     ]
    },
    {
     "name": "stdout",
     "output_type": "stream",
     "text": [
      "\n",
      "Обрабатываю текст 46/171\n"
     ]
    },
    {
     "name": "stderr",
     "output_type": "stream",
     "text": [
      "Генерирую базовой моделью:  27%|████           | 46/171 [09:53<27:06, 13.01s/it]"
     ]
    },
    {
     "name": "stdout",
     "output_type": "stream",
     "text": [
      "\n",
      "Обрабатываю текст 47/171\n"
     ]
    },
    {
     "name": "stderr",
     "output_type": "stream",
     "text": [
      "Генерирую базовой моделью:  27%|████           | 47/171 [10:06<26:56, 13.04s/it]"
     ]
    },
    {
     "name": "stdout",
     "output_type": "stream",
     "text": [
      "\n",
      "Обрабатываю текст 48/171\n"
     ]
    },
    {
     "name": "stderr",
     "output_type": "stream",
     "text": [
      "Генерирую базовой моделью:  28%|████▏          | 48/171 [10:19<26:36, 12.98s/it]"
     ]
    },
    {
     "name": "stdout",
     "output_type": "stream",
     "text": [
      "\n",
      "Обрабатываю текст 49/171\n"
     ]
    },
    {
     "name": "stderr",
     "output_type": "stream",
     "text": [
      "Генерирую базовой моделью:  29%|████▎          | 49/171 [10:32<26:26, 13.01s/it]"
     ]
    },
    {
     "name": "stdout",
     "output_type": "stream",
     "text": [
      "\n",
      "Обрабатываю текст 50/171\n"
     ]
    },
    {
     "name": "stderr",
     "output_type": "stream",
     "text": [
      "Генерирую базовой моделью:  29%|████▍          | 50/171 [10:46<26:40, 13.23s/it]"
     ]
    },
    {
     "name": "stdout",
     "output_type": "stream",
     "text": [
      "\n",
      "Обрабатываю текст 51/171\n"
     ]
    },
    {
     "name": "stderr",
     "output_type": "stream",
     "text": [
      "Генерирую базовой моделью:  30%|████▍          | 51/171 [11:01<27:41, 13.84s/it]"
     ]
    },
    {
     "name": "stdout",
     "output_type": "stream",
     "text": [
      "\n",
      "Обрабатываю текст 52/171\n"
     ]
    },
    {
     "name": "stderr",
     "output_type": "stream",
     "text": [
      "Генерирую базовой моделью:  30%|████▌          | 52/171 [11:14<26:55, 13.58s/it]"
     ]
    },
    {
     "name": "stdout",
     "output_type": "stream",
     "text": [
      "\n",
      "Обрабатываю текст 53/171\n"
     ]
    },
    {
     "name": "stderr",
     "output_type": "stream",
     "text": [
      "Генерирую базовой моделью:  31%|████▋          | 53/171 [11:27<26:23, 13.42s/it]"
     ]
    },
    {
     "name": "stdout",
     "output_type": "stream",
     "text": [
      "\n",
      "Обрабатываю текст 54/171\n"
     ]
    },
    {
     "name": "stderr",
     "output_type": "stream",
     "text": [
      "Генерирую базовой моделью:  32%|████▋          | 54/171 [11:40<25:59, 13.33s/it]"
     ]
    },
    {
     "name": "stdout",
     "output_type": "stream",
     "text": [
      "\n",
      "Обрабатываю текст 55/171\n"
     ]
    },
    {
     "name": "stderr",
     "output_type": "stream",
     "text": [
      "Генерирую базовой моделью:  32%|████▊          | 55/171 [11:53<25:38, 13.27s/it]"
     ]
    },
    {
     "name": "stdout",
     "output_type": "stream",
     "text": [
      "\n",
      "Обрабатываю текст 56/171\n"
     ]
    },
    {
     "name": "stderr",
     "output_type": "stream",
     "text": [
      "Генерирую базовой моделью:  33%|████▉          | 56/171 [12:06<25:23, 13.24s/it]"
     ]
    },
    {
     "name": "stdout",
     "output_type": "stream",
     "text": [
      "\n",
      "Обрабатываю текст 57/171\n"
     ]
    },
    {
     "name": "stderr",
     "output_type": "stream",
     "text": [
      "Генерирую базовой моделью:  33%|█████          | 57/171 [12:19<25:00, 13.16s/it]"
     ]
    },
    {
     "name": "stdout",
     "output_type": "stream",
     "text": [
      "\n",
      "Обрабатываю текст 58/171\n"
     ]
    },
    {
     "name": "stderr",
     "output_type": "stream",
     "text": [
      "Генерирую базовой моделью:  34%|█████          | 58/171 [12:32<24:48, 13.18s/it]"
     ]
    },
    {
     "name": "stdout",
     "output_type": "stream",
     "text": [
      "\n",
      "Обрабатываю текст 59/171\n"
     ]
    },
    {
     "name": "stderr",
     "output_type": "stream",
     "text": [
      "Генерирую базовой моделью:  35%|█████▏         | 59/171 [12:46<24:38, 13.20s/it]"
     ]
    },
    {
     "name": "stdout",
     "output_type": "stream",
     "text": [
      "\n",
      "Обрабатываю текст 60/171\n"
     ]
    },
    {
     "name": "stderr",
     "output_type": "stream",
     "text": [
      "Генерирую базовой моделью:  35%|█████▎         | 60/171 [12:59<24:27, 13.22s/it]"
     ]
    },
    {
     "name": "stdout",
     "output_type": "stream",
     "text": [
      "\n",
      "Обрабатываю текст 61/171\n"
     ]
    },
    {
     "name": "stderr",
     "output_type": "stream",
     "text": [
      "Генерирую базовой моделью:  36%|█████▎         | 61/171 [13:13<24:26, 13.33s/it]"
     ]
    },
    {
     "name": "stdout",
     "output_type": "stream",
     "text": [
      "\n",
      "Обрабатываю текст 62/171\n"
     ]
    },
    {
     "name": "stderr",
     "output_type": "stream",
     "text": [
      "Генерирую базовой моделью:  36%|█████▍         | 62/171 [13:26<24:10, 13.31s/it]"
     ]
    },
    {
     "name": "stdout",
     "output_type": "stream",
     "text": [
      "\n",
      "Обрабатываю текст 63/171\n"
     ]
    },
    {
     "name": "stderr",
     "output_type": "stream",
     "text": [
      "Генерирую базовой моделью:  37%|█████▌         | 63/171 [13:39<23:46, 13.21s/it]"
     ]
    },
    {
     "name": "stdout",
     "output_type": "stream",
     "text": [
      "\n",
      "Обрабатываю текст 64/171\n"
     ]
    },
    {
     "name": "stderr",
     "output_type": "stream",
     "text": [
      "Генерирую базовой моделью:  37%|█████▌         | 64/171 [13:52<23:30, 13.18s/it]"
     ]
    },
    {
     "name": "stdout",
     "output_type": "stream",
     "text": [
      "\n",
      "Обрабатываю текст 65/171\n"
     ]
    },
    {
     "name": "stderr",
     "output_type": "stream",
     "text": [
      "Генерирую базовой моделью:  38%|█████▋         | 65/171 [14:05<23:28, 13.29s/it]"
     ]
    },
    {
     "name": "stdout",
     "output_type": "stream",
     "text": [
      "\n",
      "Обрабатываю текст 66/171\n"
     ]
    },
    {
     "name": "stderr",
     "output_type": "stream",
     "text": [
      "Генерирую базовой моделью:  39%|█████▊         | 66/171 [14:19<23:13, 13.27s/it]"
     ]
    },
    {
     "name": "stdout",
     "output_type": "stream",
     "text": [
      "\n",
      "Обрабатываю текст 67/171\n"
     ]
    },
    {
     "name": "stderr",
     "output_type": "stream",
     "text": [
      "Генерирую базовой моделью:  39%|█████▉         | 67/171 [14:32<22:54, 13.21s/it]"
     ]
    },
    {
     "name": "stdout",
     "output_type": "stream",
     "text": [
      "\n",
      "Обрабатываю текст 68/171\n"
     ]
    },
    {
     "name": "stderr",
     "output_type": "stream",
     "text": [
      "Генерирую базовой моделью:  40%|█████▉         | 68/171 [14:45<22:45, 13.25s/it]"
     ]
    },
    {
     "name": "stdout",
     "output_type": "stream",
     "text": [
      "\n",
      "Обрабатываю текст 69/171\n"
     ]
    },
    {
     "name": "stderr",
     "output_type": "stream",
     "text": [
      "Генерирую базовой моделью:  40%|██████         | 69/171 [14:58<22:31, 13.25s/it]"
     ]
    },
    {
     "name": "stdout",
     "output_type": "stream",
     "text": [
      "\n",
      "Обрабатываю текст 70/171\n"
     ]
    },
    {
     "name": "stderr",
     "output_type": "stream",
     "text": [
      "Генерирую базовой моделью:  41%|██████▏        | 70/171 [15:12<22:36, 13.43s/it]"
     ]
    },
    {
     "name": "stdout",
     "output_type": "stream",
     "text": [
      "\n",
      "Обрабатываю текст 71/171\n"
     ]
    },
    {
     "name": "stderr",
     "output_type": "stream",
     "text": [
      "Генерирую базовой моделью:  42%|██████▏        | 71/171 [15:25<22:15, 13.35s/it]"
     ]
    },
    {
     "name": "stdout",
     "output_type": "stream",
     "text": [
      "\n",
      "Обрабатываю текст 72/171\n"
     ]
    },
    {
     "name": "stderr",
     "output_type": "stream",
     "text": [
      "Генерирую базовой моделью:  42%|██████▎        | 72/171 [15:38<21:54, 13.27s/it]"
     ]
    },
    {
     "name": "stdout",
     "output_type": "stream",
     "text": [
      "\n",
      "Обрабатываю текст 73/171\n"
     ]
    },
    {
     "name": "stderr",
     "output_type": "stream",
     "text": [
      "Генерирую базовой моделью:  43%|██████▍        | 73/171 [15:52<21:51, 13.38s/it]"
     ]
    },
    {
     "name": "stdout",
     "output_type": "stream",
     "text": [
      "\n",
      "Обрабатываю текст 74/171\n"
     ]
    },
    {
     "name": "stderr",
     "output_type": "stream",
     "text": [
      "Генерирую базовой моделью:  43%|██████▍        | 74/171 [16:05<21:34, 13.34s/it]"
     ]
    },
    {
     "name": "stdout",
     "output_type": "stream",
     "text": [
      "\n",
      "Обрабатываю текст 75/171\n"
     ]
    },
    {
     "name": "stderr",
     "output_type": "stream",
     "text": [
      "Генерирую базовой моделью:  44%|██████▌        | 75/171 [16:18<21:14, 13.28s/it]"
     ]
    },
    {
     "name": "stdout",
     "output_type": "stream",
     "text": [
      "\n",
      "Обрабатываю текст 76/171\n"
     ]
    },
    {
     "name": "stderr",
     "output_type": "stream",
     "text": [
      "Генерирую базовой моделью:  44%|██████▋        | 76/171 [16:32<20:56, 13.23s/it]"
     ]
    },
    {
     "name": "stdout",
     "output_type": "stream",
     "text": [
      "\n",
      "Обрабатываю текст 77/171\n"
     ]
    },
    {
     "name": "stderr",
     "output_type": "stream",
     "text": [
      "Генерирую базовой моделью:  45%|██████▊        | 77/171 [16:45<20:35, 13.15s/it]"
     ]
    },
    {
     "name": "stdout",
     "output_type": "stream",
     "text": [
      "\n",
      "Обрабатываю текст 78/171\n"
     ]
    },
    {
     "name": "stderr",
     "output_type": "stream",
     "text": [
      "Генерирую базовой моделью:  46%|██████▊        | 78/171 [16:57<20:12, 13.04s/it]"
     ]
    },
    {
     "name": "stdout",
     "output_type": "stream",
     "text": [
      "\n",
      "Обрабатываю текст 79/171\n"
     ]
    },
    {
     "name": "stderr",
     "output_type": "stream",
     "text": [
      "Генерирую базовой моделью:  46%|██████▉        | 79/171 [17:10<19:56, 13.00s/it]"
     ]
    },
    {
     "name": "stdout",
     "output_type": "stream",
     "text": [
      "\n",
      "Обрабатываю текст 80/171\n"
     ]
    },
    {
     "name": "stderr",
     "output_type": "stream",
     "text": [
      "Генерирую базовой моделью:  47%|███████        | 80/171 [17:23<19:46, 13.04s/it]"
     ]
    },
    {
     "name": "stdout",
     "output_type": "stream",
     "text": [
      "\n",
      "Обрабатываю текст 81/171\n"
     ]
    },
    {
     "name": "stderr",
     "output_type": "stream",
     "text": [
      "Генерирую базовой моделью:  47%|███████        | 81/171 [17:37<19:39, 13.10s/it]"
     ]
    },
    {
     "name": "stdout",
     "output_type": "stream",
     "text": [
      "\n",
      "Обрабатываю текст 82/171\n"
     ]
    },
    {
     "name": "stderr",
     "output_type": "stream",
     "text": [
      "Генерирую базовой моделью:  48%|███████▏       | 82/171 [17:50<19:25, 13.10s/it]"
     ]
    },
    {
     "name": "stdout",
     "output_type": "stream",
     "text": [
      "\n",
      "Обрабатываю текст 83/171\n"
     ]
    },
    {
     "name": "stderr",
     "output_type": "stream",
     "text": [
      "Генерирую базовой моделью:  49%|███████▎       | 83/171 [18:03<19:14, 13.12s/it]"
     ]
    },
    {
     "name": "stdout",
     "output_type": "stream",
     "text": [
      "\n",
      "Обрабатываю текст 84/171\n"
     ]
    },
    {
     "name": "stderr",
     "output_type": "stream",
     "text": [
      "Генерирую базовой моделью:  49%|███████▎       | 84/171 [18:16<19:02, 13.14s/it]"
     ]
    },
    {
     "name": "stdout",
     "output_type": "stream",
     "text": [
      "\n",
      "Обрабатываю текст 85/171\n"
     ]
    },
    {
     "name": "stderr",
     "output_type": "stream",
     "text": [
      "Генерирую базовой моделью:  50%|███████▍       | 85/171 [18:29<18:49, 13.13s/it]"
     ]
    },
    {
     "name": "stdout",
     "output_type": "stream",
     "text": [
      "\n",
      "Обрабатываю текст 86/171\n"
     ]
    },
    {
     "name": "stderr",
     "output_type": "stream",
     "text": [
      "Генерирую базовой моделью:  50%|███████▌       | 86/171 [18:42<18:34, 13.11s/it]"
     ]
    },
    {
     "name": "stdout",
     "output_type": "stream",
     "text": [
      "\n",
      "Обрабатываю текст 87/171\n"
     ]
    },
    {
     "name": "stderr",
     "output_type": "stream",
     "text": [
      "Генерирую базовой моделью:  51%|███████▋       | 87/171 [18:55<18:23, 13.14s/it]"
     ]
    },
    {
     "name": "stdout",
     "output_type": "stream",
     "text": [
      "\n",
      "Обрабатываю текст 88/171\n"
     ]
    },
    {
     "name": "stderr",
     "output_type": "stream",
     "text": [
      "Генерирую базовой моделью:  51%|███████▋       | 88/171 [19:09<18:18, 13.23s/it]"
     ]
    },
    {
     "name": "stdout",
     "output_type": "stream",
     "text": [
      "\n",
      "Обрабатываю текст 89/171\n"
     ]
    },
    {
     "name": "stderr",
     "output_type": "stream",
     "text": [
      "Генерирую базовой моделью:  52%|███████▊       | 89/171 [19:22<18:03, 13.22s/it]"
     ]
    },
    {
     "name": "stdout",
     "output_type": "stream",
     "text": [
      "\n",
      "Обрабатываю текст 90/171\n"
     ]
    },
    {
     "name": "stderr",
     "output_type": "stream",
     "text": [
      "Генерирую базовой моделью:  53%|███████▉       | 90/171 [19:36<17:58, 13.32s/it]"
     ]
    },
    {
     "name": "stdout",
     "output_type": "stream",
     "text": [
      "\n",
      "Обрабатываю текст 91/171\n"
     ]
    },
    {
     "name": "stderr",
     "output_type": "stream",
     "text": [
      "Генерирую базовой моделью:  53%|███████▉       | 91/171 [19:49<17:50, 13.38s/it]"
     ]
    },
    {
     "name": "stdout",
     "output_type": "stream",
     "text": [
      "\n",
      "Обрабатываю текст 92/171\n"
     ]
    },
    {
     "name": "stderr",
     "output_type": "stream",
     "text": [
      "Генерирую базовой моделью:  54%|████████       | 92/171 [20:02<17:31, 13.31s/it]"
     ]
    },
    {
     "name": "stdout",
     "output_type": "stream",
     "text": [
      "\n",
      "Обрабатываю текст 93/171\n"
     ]
    },
    {
     "name": "stderr",
     "output_type": "stream",
     "text": [
      "Генерирую базовой моделью:  54%|████████▏      | 93/171 [20:16<17:19, 13.33s/it]"
     ]
    },
    {
     "name": "stdout",
     "output_type": "stream",
     "text": [
      "\n",
      "Обрабатываю текст 94/171\n"
     ]
    },
    {
     "name": "stderr",
     "output_type": "stream",
     "text": [
      "Генерирую базовой моделью:  55%|████████▏      | 94/171 [20:29<16:55, 13.19s/it]"
     ]
    },
    {
     "name": "stdout",
     "output_type": "stream",
     "text": [
      "\n",
      "Обрабатываю текст 95/171\n"
     ]
    },
    {
     "name": "stderr",
     "output_type": "stream",
     "text": [
      "Генерирую базовой моделью:  56%|████████▎      | 95/171 [20:42<16:38, 13.13s/it]"
     ]
    },
    {
     "name": "stdout",
     "output_type": "stream",
     "text": [
      "\n",
      "Обрабатываю текст 96/171\n"
     ]
    },
    {
     "name": "stderr",
     "output_type": "stream",
     "text": [
      "Генерирую базовой моделью:  56%|████████▍      | 96/171 [20:55<16:22, 13.10s/it]"
     ]
    },
    {
     "name": "stdout",
     "output_type": "stream",
     "text": [
      "\n",
      "Обрабатываю текст 97/171\n"
     ]
    },
    {
     "name": "stderr",
     "output_type": "stream",
     "text": [
      "Генерирую базовой моделью:  57%|████████▌      | 97/171 [21:07<16:03, 13.03s/it]"
     ]
    },
    {
     "name": "stdout",
     "output_type": "stream",
     "text": [
      "\n",
      "Обрабатываю текст 98/171\n"
     ]
    },
    {
     "name": "stderr",
     "output_type": "stream",
     "text": [
      "Генерирую базовой моделью:  57%|████████▌      | 98/171 [21:21<16:02, 13.18s/it]"
     ]
    },
    {
     "name": "stdout",
     "output_type": "stream",
     "text": [
      "\n",
      "Обрабатываю текст 99/171\n"
     ]
    },
    {
     "name": "stderr",
     "output_type": "stream",
     "text": [
      "Генерирую базовой моделью:  58%|████████▋      | 99/171 [21:34<15:46, 13.15s/it]"
     ]
    },
    {
     "name": "stdout",
     "output_type": "stream",
     "text": [
      "\n",
      "Обрабатываю текст 100/171\n"
     ]
    },
    {
     "name": "stderr",
     "output_type": "stream",
     "text": [
      "Генерирую базовой моделью:  58%|████████▏     | 100/171 [21:47<15:31, 13.12s/it]"
     ]
    },
    {
     "name": "stdout",
     "output_type": "stream",
     "text": [
      "\n",
      "Обрабатываю текст 101/171\n"
     ]
    },
    {
     "name": "stderr",
     "output_type": "stream",
     "text": [
      "Генерирую базовой моделью:  59%|████████▎     | 101/171 [22:01<15:28, 13.27s/it]"
     ]
    },
    {
     "name": "stdout",
     "output_type": "stream",
     "text": [
      "\n",
      "Обрабатываю текст 102/171\n"
     ]
    },
    {
     "name": "stderr",
     "output_type": "stream",
     "text": [
      "Генерирую базовой моделью:  60%|████████▎     | 102/171 [22:14<15:09, 13.18s/it]"
     ]
    },
    {
     "name": "stdout",
     "output_type": "stream",
     "text": [
      "\n",
      "Обрабатываю текст 103/171\n"
     ]
    },
    {
     "name": "stderr",
     "output_type": "stream",
     "text": [
      "Генерирую базовой моделью:  60%|████████▍     | 103/171 [22:27<14:56, 13.19s/it]"
     ]
    },
    {
     "name": "stdout",
     "output_type": "stream",
     "text": [
      "\n",
      "Обрабатываю текст 104/171\n"
     ]
    },
    {
     "name": "stderr",
     "output_type": "stream",
     "text": [
      "Генерирую базовой моделью:  61%|████████▌     | 104/171 [22:40<14:42, 13.17s/it]"
     ]
    },
    {
     "name": "stdout",
     "output_type": "stream",
     "text": [
      "\n",
      "Обрабатываю текст 105/171\n"
     ]
    },
    {
     "name": "stderr",
     "output_type": "stream",
     "text": [
      "Генерирую базовой моделью:  61%|████████▌     | 105/171 [22:53<14:34, 13.25s/it]"
     ]
    },
    {
     "name": "stdout",
     "output_type": "stream",
     "text": [
      "\n",
      "Обрабатываю текст 106/171\n"
     ]
    },
    {
     "name": "stderr",
     "output_type": "stream",
     "text": [
      "Генерирую базовой моделью:  62%|████████▋     | 106/171 [23:07<14:18, 13.20s/it]"
     ]
    },
    {
     "name": "stdout",
     "output_type": "stream",
     "text": [
      "\n",
      "Обрабатываю текст 107/171\n"
     ]
    },
    {
     "name": "stderr",
     "output_type": "stream",
     "text": [
      "Генерирую базовой моделью:  63%|████████▊     | 107/171 [23:20<14:05, 13.20s/it]"
     ]
    },
    {
     "name": "stdout",
     "output_type": "stream",
     "text": [
      "\n",
      "Обрабатываю текст 108/171\n"
     ]
    },
    {
     "name": "stderr",
     "output_type": "stream",
     "text": [
      "Генерирую базовой моделью:  63%|████████▊     | 108/171 [23:33<13:45, 13.11s/it]"
     ]
    },
    {
     "name": "stdout",
     "output_type": "stream",
     "text": [
      "\n",
      "Обрабатываю текст 109/171\n"
     ]
    },
    {
     "name": "stderr",
     "output_type": "stream",
     "text": [
      "Генерирую базовой моделью:  64%|████████▉     | 109/171 [23:46<13:30, 13.08s/it]"
     ]
    },
    {
     "name": "stdout",
     "output_type": "stream",
     "text": [
      "\n",
      "Обрабатываю текст 110/171\n"
     ]
    },
    {
     "name": "stderr",
     "output_type": "stream",
     "text": [
      "Генерирую базовой моделью:  64%|█████████     | 110/171 [23:59<13:16, 13.06s/it]"
     ]
    },
    {
     "name": "stdout",
     "output_type": "stream",
     "text": [
      "\n",
      "Обрабатываю текст 111/171\n"
     ]
    },
    {
     "name": "stderr",
     "output_type": "stream",
     "text": [
      "Генерирую базовой моделью:  65%|█████████     | 111/171 [24:11<12:57, 12.96s/it]"
     ]
    },
    {
     "name": "stdout",
     "output_type": "stream",
     "text": [
      "\n",
      "Обрабатываю текст 112/171\n"
     ]
    },
    {
     "name": "stderr",
     "output_type": "stream",
     "text": [
      "Генерирую базовой моделью:  65%|█████████▏    | 112/171 [24:24<12:40, 12.88s/it]"
     ]
    },
    {
     "name": "stdout",
     "output_type": "stream",
     "text": [
      "\n",
      "Обрабатываю текст 113/171\n"
     ]
    },
    {
     "name": "stderr",
     "output_type": "stream",
     "text": [
      "Генерирую базовой моделью:  66%|█████████▎    | 113/171 [24:37<12:29, 12.92s/it]"
     ]
    },
    {
     "name": "stdout",
     "output_type": "stream",
     "text": [
      "\n",
      "Обрабатываю текст 114/171\n"
     ]
    },
    {
     "name": "stderr",
     "output_type": "stream",
     "text": [
      "Генерирую базовой моделью:  67%|█████████▎    | 114/171 [24:50<12:14, 12.88s/it]"
     ]
    },
    {
     "name": "stdout",
     "output_type": "stream",
     "text": [
      "\n",
      "Обрабатываю текст 115/171\n"
     ]
    },
    {
     "name": "stderr",
     "output_type": "stream",
     "text": [
      "Генерирую базовой моделью:  67%|█████████▍    | 115/171 [25:03<12:02, 12.90s/it]"
     ]
    },
    {
     "name": "stdout",
     "output_type": "stream",
     "text": [
      "\n",
      "Обрабатываю текст 116/171\n"
     ]
    },
    {
     "name": "stderr",
     "output_type": "stream",
     "text": [
      "Генерирую базовой моделью:  68%|█████████▍    | 116/171 [25:16<11:50, 12.92s/it]"
     ]
    },
    {
     "name": "stdout",
     "output_type": "stream",
     "text": [
      "\n",
      "Обрабатываю текст 117/171\n"
     ]
    },
    {
     "name": "stderr",
     "output_type": "stream",
     "text": [
      "Генерирую базовой моделью:  68%|█████████▌    | 117/171 [25:29<11:39, 12.95s/it]"
     ]
    },
    {
     "name": "stdout",
     "output_type": "stream",
     "text": [
      "\n",
      "Обрабатываю текст 118/171\n"
     ]
    },
    {
     "name": "stderr",
     "output_type": "stream",
     "text": [
      "Генерирую базовой моделью:  69%|█████████▋    | 118/171 [25:42<11:36, 13.14s/it]"
     ]
    },
    {
     "name": "stdout",
     "output_type": "stream",
     "text": [
      "\n",
      "Обрабатываю текст 119/171\n"
     ]
    },
    {
     "name": "stderr",
     "output_type": "stream",
     "text": [
      "Генерирую базовой моделью:  70%|█████████▋    | 119/171 [25:55<11:21, 13.11s/it]"
     ]
    },
    {
     "name": "stdout",
     "output_type": "stream",
     "text": [
      "\n",
      "Обрабатываю текст 120/171\n"
     ]
    },
    {
     "name": "stderr",
     "output_type": "stream",
     "text": [
      "Генерирую базовой моделью:  70%|█████████▊    | 120/171 [26:08<11:05, 13.05s/it]"
     ]
    },
    {
     "name": "stdout",
     "output_type": "stream",
     "text": [
      "\n",
      "Обрабатываю текст 121/171\n"
     ]
    },
    {
     "name": "stderr",
     "output_type": "stream",
     "text": [
      "Генерирую базовой моделью:  71%|█████████▉    | 121/171 [26:22<10:58, 13.16s/it]"
     ]
    },
    {
     "name": "stdout",
     "output_type": "stream",
     "text": [
      "\n",
      "Обрабатываю текст 122/171\n"
     ]
    },
    {
     "name": "stderr",
     "output_type": "stream",
     "text": [
      "Генерирую базовой моделью:  71%|█████████▉    | 122/171 [26:35<10:43, 13.14s/it]"
     ]
    },
    {
     "name": "stdout",
     "output_type": "stream",
     "text": [
      "\n",
      "Обрабатываю текст 123/171\n"
     ]
    },
    {
     "name": "stderr",
     "output_type": "stream",
     "text": [
      "Генерирую базовой моделью:  72%|██████████    | 123/171 [26:48<10:29, 13.11s/it]"
     ]
    },
    {
     "name": "stdout",
     "output_type": "stream",
     "text": [
      "\n",
      "Обрабатываю текст 124/171\n"
     ]
    },
    {
     "name": "stderr",
     "output_type": "stream",
     "text": [
      "Генерирую базовой моделью:  73%|██████████▏   | 124/171 [27:01<10:17, 13.13s/it]"
     ]
    },
    {
     "name": "stdout",
     "output_type": "stream",
     "text": [
      "\n",
      "Обрабатываю текст 125/171\n"
     ]
    },
    {
     "name": "stderr",
     "output_type": "stream",
     "text": [
      "Генерирую базовой моделью:  73%|██████████▏   | 125/171 [27:14<10:04, 13.15s/it]"
     ]
    },
    {
     "name": "stdout",
     "output_type": "stream",
     "text": [
      "\n",
      "Обрабатываю текст 126/171\n"
     ]
    },
    {
     "name": "stderr",
     "output_type": "stream",
     "text": [
      "Генерирую базовой моделью:  74%|██████████▎   | 126/171 [27:27<09:51, 13.14s/it]"
     ]
    },
    {
     "name": "stdout",
     "output_type": "stream",
     "text": [
      "\n",
      "Обрабатываю текст 127/171\n"
     ]
    },
    {
     "name": "stderr",
     "output_type": "stream",
     "text": [
      "Генерирую базовой моделью:  74%|██████████▍   | 127/171 [27:40<09:37, 13.12s/it]"
     ]
    },
    {
     "name": "stdout",
     "output_type": "stream",
     "text": [
      "\n",
      "Обрабатываю текст 128/171\n"
     ]
    },
    {
     "name": "stderr",
     "output_type": "stream",
     "text": [
      "Генерирую базовой моделью:  75%|██████████▍   | 128/171 [27:53<09:21, 13.07s/it]"
     ]
    },
    {
     "name": "stdout",
     "output_type": "stream",
     "text": [
      "\n",
      "Обрабатываю текст 129/171\n"
     ]
    },
    {
     "name": "stderr",
     "output_type": "stream",
     "text": [
      "Генерирую базовой моделью:  75%|██████████▌   | 129/171 [28:07<09:15, 13.23s/it]"
     ]
    },
    {
     "name": "stdout",
     "output_type": "stream",
     "text": [
      "\n",
      "Обрабатываю текст 130/171\n"
     ]
    },
    {
     "name": "stderr",
     "output_type": "stream",
     "text": [
      "Генерирую базовой моделью:  76%|██████████▋   | 130/171 [28:20<08:57, 13.12s/it]"
     ]
    },
    {
     "name": "stdout",
     "output_type": "stream",
     "text": [
      "\n",
      "Обрабатываю текст 131/171\n"
     ]
    },
    {
     "name": "stderr",
     "output_type": "stream",
     "text": [
      "Генерирую базовой моделью:  77%|██████████▋   | 131/171 [28:33<08:44, 13.10s/it]"
     ]
    },
    {
     "name": "stdout",
     "output_type": "stream",
     "text": [
      "\n",
      "Обрабатываю текст 132/171\n"
     ]
    },
    {
     "name": "stderr",
     "output_type": "stream",
     "text": [
      "Генерирую базовой моделью:  77%|██████████▊   | 132/171 [28:46<08:32, 13.15s/it]"
     ]
    },
    {
     "name": "stdout",
     "output_type": "stream",
     "text": [
      "\n",
      "Обрабатываю текст 133/171\n"
     ]
    },
    {
     "name": "stderr",
     "output_type": "stream",
     "text": [
      "Генерирую базовой моделью:  78%|██████████▉   | 133/171 [28:59<08:19, 13.15s/it]"
     ]
    },
    {
     "name": "stdout",
     "output_type": "stream",
     "text": [
      "\n",
      "Обрабатываю текст 134/171\n"
     ]
    },
    {
     "name": "stderr",
     "output_type": "stream",
     "text": [
      "Генерирую базовой моделью:  78%|██████████▉   | 134/171 [29:13<08:07, 13.19s/it]"
     ]
    },
    {
     "name": "stdout",
     "output_type": "stream",
     "text": [
      "\n",
      "Обрабатываю текст 135/171\n"
     ]
    },
    {
     "name": "stderr",
     "output_type": "stream",
     "text": [
      "Генерирую базовой моделью:  79%|███████████   | 135/171 [29:26<07:54, 13.18s/it]"
     ]
    },
    {
     "name": "stdout",
     "output_type": "stream",
     "text": [
      "\n",
      "Обрабатываю текст 136/171\n"
     ]
    },
    {
     "name": "stderr",
     "output_type": "stream",
     "text": [
      "Генерирую базовой моделью:  80%|███████████▏  | 136/171 [29:39<07:43, 13.24s/it]"
     ]
    },
    {
     "name": "stdout",
     "output_type": "stream",
     "text": [
      "\n",
      "Обрабатываю текст 137/171\n"
     ]
    },
    {
     "name": "stderr",
     "output_type": "stream",
     "text": [
      "Генерирую базовой моделью:  80%|███████████▏  | 137/171 [29:52<07:29, 13.23s/it]"
     ]
    },
    {
     "name": "stdout",
     "output_type": "stream",
     "text": [
      "\n",
      "Обрабатываю текст 138/171\n"
     ]
    },
    {
     "name": "stderr",
     "output_type": "stream",
     "text": [
      "Генерирую базовой моделью:  81%|███████████▎  | 138/171 [30:06<07:19, 13.30s/it]"
     ]
    },
    {
     "name": "stdout",
     "output_type": "stream",
     "text": [
      "\n",
      "Обрабатываю текст 139/171\n"
     ]
    },
    {
     "name": "stderr",
     "output_type": "stream",
     "text": [
      "Генерирую базовой моделью:  81%|███████████▍  | 139/171 [30:19<07:05, 13.28s/it]"
     ]
    },
    {
     "name": "stdout",
     "output_type": "stream",
     "text": [
      "\n",
      "Обрабатываю текст 140/171\n"
     ]
    },
    {
     "name": "stderr",
     "output_type": "stream",
     "text": [
      "Генерирую базовой моделью:  82%|███████████▍  | 140/171 [30:32<06:52, 13.29s/it]"
     ]
    },
    {
     "name": "stdout",
     "output_type": "stream",
     "text": [
      "\n",
      "Обрабатываю текст 141/171\n"
     ]
    },
    {
     "name": "stderr",
     "output_type": "stream",
     "text": [
      "Генерирую базовой моделью:  82%|███████████▌  | 141/171 [30:46<06:39, 13.32s/it]"
     ]
    },
    {
     "name": "stdout",
     "output_type": "stream",
     "text": [
      "\n",
      "Обрабатываю текст 142/171\n"
     ]
    },
    {
     "name": "stderr",
     "output_type": "stream",
     "text": [
      "Генерирую базовой моделью:  83%|███████████▋  | 142/171 [31:00<06:31, 13.49s/it]"
     ]
    },
    {
     "name": "stdout",
     "output_type": "stream",
     "text": [
      "\n",
      "Обрабатываю текст 143/171\n"
     ]
    },
    {
     "name": "stderr",
     "output_type": "stream",
     "text": [
      "Генерирую базовой моделью:  84%|███████████▋  | 143/171 [31:13<06:15, 13.40s/it]"
     ]
    },
    {
     "name": "stdout",
     "output_type": "stream",
     "text": [
      "\n",
      "Обрабатываю текст 144/171\n"
     ]
    },
    {
     "name": "stderr",
     "output_type": "stream",
     "text": [
      "Генерирую базовой моделью:  84%|███████████▊  | 144/171 [31:26<06:03, 13.45s/it]"
     ]
    },
    {
     "name": "stdout",
     "output_type": "stream",
     "text": [
      "\n",
      "Обрабатываю текст 145/171\n"
     ]
    },
    {
     "name": "stderr",
     "output_type": "stream",
     "text": [
      "Генерирую базовой моделью:  85%|███████████▊  | 145/171 [31:39<05:45, 13.27s/it]"
     ]
    },
    {
     "name": "stdout",
     "output_type": "stream",
     "text": [
      "\n",
      "Обрабатываю текст 146/171\n"
     ]
    },
    {
     "name": "stderr",
     "output_type": "stream",
     "text": [
      "Генерирую базовой моделью:  85%|███████████▉  | 146/171 [31:52<05:30, 13.20s/it]"
     ]
    },
    {
     "name": "stdout",
     "output_type": "stream",
     "text": [
      "\n",
      "Обрабатываю текст 147/171\n"
     ]
    },
    {
     "name": "stderr",
     "output_type": "stream",
     "text": [
      "Генерирую базовой моделью:  86%|████████████  | 147/171 [32:05<05:14, 13.11s/it]"
     ]
    },
    {
     "name": "stdout",
     "output_type": "stream",
     "text": [
      "\n",
      "Обрабатываю текст 148/171\n"
     ]
    },
    {
     "name": "stderr",
     "output_type": "stream",
     "text": [
      "Генерирую базовой моделью:  87%|████████████  | 148/171 [32:18<05:00, 13.07s/it]"
     ]
    },
    {
     "name": "stdout",
     "output_type": "stream",
     "text": [
      "\n",
      "Обрабатываю текст 149/171\n"
     ]
    },
    {
     "name": "stderr",
     "output_type": "stream",
     "text": [
      "Генерирую базовой моделью:  87%|████████████▏ | 149/171 [32:32<04:52, 13.28s/it]"
     ]
    },
    {
     "name": "stdout",
     "output_type": "stream",
     "text": [
      "\n",
      "Обрабатываю текст 150/171\n"
     ]
    },
    {
     "name": "stderr",
     "output_type": "stream",
     "text": [
      "Генерирую базовой моделью:  88%|████████████▎ | 150/171 [32:45<04:39, 13.30s/it]"
     ]
    },
    {
     "name": "stdout",
     "output_type": "stream",
     "text": [
      "\n",
      "Обрабатываю текст 151/171\n"
     ]
    },
    {
     "name": "stderr",
     "output_type": "stream",
     "text": [
      "Генерирую базовой моделью:  88%|████████████▎ | 151/171 [32:59<04:25, 13.26s/it]"
     ]
    },
    {
     "name": "stdout",
     "output_type": "stream",
     "text": [
      "\n",
      "Обрабатываю текст 152/171\n"
     ]
    },
    {
     "name": "stderr",
     "output_type": "stream",
     "text": [
      "Генерирую базовой моделью:  89%|████████████▍ | 152/171 [33:12<04:15, 13.45s/it]"
     ]
    },
    {
     "name": "stdout",
     "output_type": "stream",
     "text": [
      "\n",
      "Обрабатываю текст 153/171\n"
     ]
    },
    {
     "name": "stderr",
     "output_type": "stream",
     "text": [
      "Генерирую базовой моделью:  89%|████████████▌ | 153/171 [33:26<04:01, 13.39s/it]"
     ]
    },
    {
     "name": "stdout",
     "output_type": "stream",
     "text": [
      "\n",
      "Обрабатываю текст 154/171\n"
     ]
    },
    {
     "name": "stderr",
     "output_type": "stream",
     "text": [
      "Генерирую базовой моделью:  90%|████████████▌ | 154/171 [33:39<03:45, 13.29s/it]"
     ]
    },
    {
     "name": "stdout",
     "output_type": "stream",
     "text": [
      "\n",
      "Обрабатываю текст 155/171\n"
     ]
    },
    {
     "name": "stderr",
     "output_type": "stream",
     "text": [
      "Генерирую базовой моделью:  91%|████████████▋ | 155/171 [33:52<03:31, 13.21s/it]"
     ]
    },
    {
     "name": "stdout",
     "output_type": "stream",
     "text": [
      "\n",
      "Обрабатываю текст 156/171\n"
     ]
    },
    {
     "name": "stderr",
     "output_type": "stream",
     "text": [
      "Генерирую базовой моделью:  91%|████████████▊ | 156/171 [34:05<03:18, 13.21s/it]"
     ]
    },
    {
     "name": "stdout",
     "output_type": "stream",
     "text": [
      "\n",
      "Обрабатываю текст 157/171\n"
     ]
    },
    {
     "name": "stderr",
     "output_type": "stream",
     "text": [
      "Генерирую базовой моделью:  92%|████████████▊ | 157/171 [34:18<03:05, 13.22s/it]"
     ]
    },
    {
     "name": "stdout",
     "output_type": "stream",
     "text": [
      "\n",
      "Обрабатываю текст 158/171\n"
     ]
    },
    {
     "name": "stderr",
     "output_type": "stream",
     "text": [
      "Генерирую базовой моделью:  92%|████████████▉ | 158/171 [34:32<02:53, 13.31s/it]"
     ]
    },
    {
     "name": "stdout",
     "output_type": "stream",
     "text": [
      "\n",
      "Обрабатываю текст 159/171\n"
     ]
    },
    {
     "name": "stderr",
     "output_type": "stream",
     "text": [
      "Генерирую базовой моделью:  93%|█████████████ | 159/171 [34:45<02:40, 13.36s/it]"
     ]
    },
    {
     "name": "stdout",
     "output_type": "stream",
     "text": [
      "\n",
      "Обрабатываю текст 160/171\n"
     ]
    },
    {
     "name": "stderr",
     "output_type": "stream",
     "text": [
      "Генерирую базовой моделью:  94%|█████████████ | 160/171 [34:58<02:25, 13.22s/it]"
     ]
    },
    {
     "name": "stdout",
     "output_type": "stream",
     "text": [
      "\n",
      "Обрабатываю текст 161/171\n"
     ]
    },
    {
     "name": "stderr",
     "output_type": "stream",
     "text": [
      "Генерирую базовой моделью:  94%|█████████████▏| 161/171 [35:11<02:11, 13.19s/it]"
     ]
    },
    {
     "name": "stdout",
     "output_type": "stream",
     "text": [
      "\n",
      "Обрабатываю текст 162/171\n"
     ]
    },
    {
     "name": "stderr",
     "output_type": "stream",
     "text": [
      "Генерирую базовой моделью:  95%|█████████████▎| 162/171 [35:24<01:58, 13.14s/it]"
     ]
    },
    {
     "name": "stdout",
     "output_type": "stream",
     "text": [
      "\n",
      "Обрабатываю текст 163/171\n"
     ]
    },
    {
     "name": "stderr",
     "output_type": "stream",
     "text": [
      "Генерирую базовой моделью:  95%|█████████████▎| 163/171 [35:38<01:45, 13.20s/it]"
     ]
    },
    {
     "name": "stdout",
     "output_type": "stream",
     "text": [
      "\n",
      "Обрабатываю текст 164/171\n"
     ]
    },
    {
     "name": "stderr",
     "output_type": "stream",
     "text": [
      "Генерирую базовой моделью:  96%|█████████████▍| 164/171 [35:51<01:32, 13.19s/it]"
     ]
    },
    {
     "name": "stdout",
     "output_type": "stream",
     "text": [
      "\n",
      "Обрабатываю текст 165/171\n"
     ]
    },
    {
     "name": "stderr",
     "output_type": "stream",
     "text": [
      "Генерирую базовой моделью:  96%|█████████████▌| 165/171 [36:04<01:19, 13.17s/it]"
     ]
    },
    {
     "name": "stdout",
     "output_type": "stream",
     "text": [
      "\n",
      "Обрабатываю текст 166/171\n"
     ]
    },
    {
     "name": "stderr",
     "output_type": "stream",
     "text": [
      "Генерирую базовой моделью:  97%|█████████████▌| 166/171 [36:17<01:05, 13.05s/it]"
     ]
    },
    {
     "name": "stdout",
     "output_type": "stream",
     "text": [
      "\n",
      "Обрабатываю текст 167/171\n"
     ]
    },
    {
     "name": "stderr",
     "output_type": "stream",
     "text": [
      "Генерирую базовой моделью:  98%|█████████████▋| 167/171 [36:29<00:51, 12.98s/it]"
     ]
    },
    {
     "name": "stdout",
     "output_type": "stream",
     "text": [
      "\n",
      "Обрабатываю текст 168/171\n"
     ]
    },
    {
     "name": "stderr",
     "output_type": "stream",
     "text": [
      "Генерирую базовой моделью:  98%|█████████████▊| 168/171 [36:42<00:38, 12.98s/it]"
     ]
    },
    {
     "name": "stdout",
     "output_type": "stream",
     "text": [
      "\n",
      "Обрабатываю текст 169/171\n"
     ]
    },
    {
     "name": "stderr",
     "output_type": "stream",
     "text": [
      "Генерирую базовой моделью:  99%|█████████████▊| 169/171 [36:56<00:26, 13.02s/it]"
     ]
    },
    {
     "name": "stdout",
     "output_type": "stream",
     "text": [
      "\n",
      "Обрабатываю текст 170/171\n"
     ]
    },
    {
     "name": "stderr",
     "output_type": "stream",
     "text": [
      "Генерирую базовой моделью:  99%|█████████████▉| 170/171 [37:09<00:13, 13.00s/it]"
     ]
    },
    {
     "name": "stdout",
     "output_type": "stream",
     "text": [
      "\n",
      "Обрабатываю текст 171/171\n"
     ]
    },
    {
     "name": "stderr",
     "output_type": "stream",
     "text": [
      "Генерирую базовой моделью: 100%|██████████████| 171/171 [37:21<00:00, 13.11s/it]"
     ]
    },
    {
     "name": "stdout",
     "output_type": "stream",
     "text": [
      "🎉  Всё готово → unique_texts_200_formatted_golden_standard_rugpt_base.xlsx\n"
     ]
    },
    {
     "name": "stderr",
     "output_type": "stream",
     "text": [
      "\n"
     ]
    }
   ],
   "source": [
    "import torch, pandas as pd, numpy as np, tqdm, time\n",
    "from transformers import AutoTokenizer, AutoModelForCausalLM\n",
    "from pathlib import Path\n",
    "\n",
    "BASE_ID       = \"sberbank-ai/rugpt3small_based_on_gpt2\"\n",
    "SRC_XLSX      = Path(\"unique_texts_200_formatted_golden_standard.xlsx\")\n",
    "DST_XLSX      = Path(\"unique_texts_200_formatted_golden_standard_rugpt_base.xlsx\")\n",
    "device = torch.device(\"mps\" if torch.backends.mps.is_available() else \"cpu\")\n",
    "\n",
    "tok = AutoTokenizer.from_pretrained(BASE_ID, use_fast=True)\n",
    "tok.pad_token = tok.eos_token\n",
    "\n",
    "model = AutoModelForCausalLM.from_pretrained(\n",
    "    BASE_ID,\n",
    "    torch_dtype=torch.float16,\n",
    ").to(device)\n",
    "\n",
    "model.eval()\n",
    "print(\"✅ базовая модель загружена на\", device)\n",
    "\n",
    "# Простой прямой промпт\n",
    "PROMPT = \"\"\"Переписать следующий текст более простыми словами:\n",
    "\n",
    "\"{text}\"\n",
    "\n",
    "Упрощенный текст:\"\"\"\n",
    "\n",
    "@torch.inference_mode()\n",
    "def simplify(text, max_new=256, pause=3.0):\n",
    "    # Пауза перед генерацией\n",
    "    time.sleep(pause)\n",
    "    \n",
    "    prompt = PROMPT.format(text=text)\n",
    "    ids = tok(prompt, return_tensors=\"pt\").to(device)\n",
    "    \n",
    "    gen = model.generate(\n",
    "        **ids,\n",
    "        do_sample=True,\n",
    "        temperature=0.6,\n",
    "        max_new_tokens=max_new,\n",
    "        eos_token_id=tok.eos_token_id,\n",
    "        pad_token_id=tok.eos_token_id,\n",
    "    )\n",
    "    \n",
    "    output = tok.decode(gen[0], skip_special_tokens=True)\n",
    "    \n",
    "    # Простое извлечение результата после маркера\n",
    "    if \"Упрощенный текст:\" in output:\n",
    "        return output.split(\"Упрощенный текст:\")[-1].strip()\n",
    "    else:\n",
    "        # Если маркер не найден\n",
    "        return output.split(text)[-1].strip()\n",
    "\n",
    "# Чтение исходного файла\n",
    "df = pd.read_excel(SRC_XLSX)\n",
    "\n",
    "# Создание столбца, если его нет\n",
    "out_col = \"base_model_rugpt\"\n",
    "if out_col not in df.columns:\n",
    "    df[out_col] = np.nan\n",
    "\n",
    "# Преобразуем столбец в строковый тип\n",
    "df[out_col] = df[out_col].astype('object')\n",
    "\n",
    "# Цикл с автосохранением после каждой строки\n",
    "for i in tqdm.tqdm(range(len(df)), desc=\"Генерирую базовой моделью\"):\n",
    "    if pd.isna(df.at[i, out_col]):\n",
    "        try:\n",
    "            src_text = str(df.iloc[i, 0])\n",
    "            print(f\"\\nОбрабатываю текст {i+1}/{len(df)}\")\n",
    "            \n",
    "            # Длительная пауза между обработками разных текстов\n",
    "            if i > 0:\n",
    "                time.sleep(7.0)\n",
    "                \n",
    "            result = simplify(src_text, pause=2.0)\n",
    "            df.at[i, out_col] = result\n",
    "        except Exception as e:\n",
    "            print(f\"Ошибка при обработке строки {i}: {e}\")\n",
    "            df.at[i, out_col] = f\"[ERROR: {e}]\"\n",
    "        \n",
    "        # Сохраняем после каждой обработанной строки\n",
    "        df.to_excel(DST_XLSX, index=False)\n",
    "\n",
    "print(\"🎉  Всё готово →\", DST_XLSX)"
   ]
  },
  {
   "cell_type": "code",
   "execution_count": null,
   "id": "50fb126d-a1c9-4a02-9a81-86525adc18f9",
   "metadata": {},
   "outputs": [],
   "source": []
  }
 ],
 "metadata": {
  "kernelspec": {
   "display_name": "Python [conda env:base] *",
   "language": "python",
   "name": "conda-base-py"
  },
  "language_info": {
   "codemirror_mode": {
    "name": "ipython",
    "version": 3
   },
   "file_extension": ".py",
   "mimetype": "text/x-python",
   "name": "python",
   "nbconvert_exporter": "python",
   "pygments_lexer": "ipython3",
   "version": "3.12.7"
  }
 },
 "nbformat": 4,
 "nbformat_minor": 5
}
