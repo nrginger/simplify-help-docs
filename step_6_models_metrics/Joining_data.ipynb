{
 "cells": [
  {
   "cell_type": "code",
   "execution_count": 3,
   "id": "dfe41f67-d140-41c8-84d6-214fe4aae80c",
   "metadata": {},
   "outputs": [],
   "source": [
    "import pandas as pd\n",
    "import hashlib"
   ]
  },
  {
   "cell_type": "code",
   "execution_count": 10,
   "id": "f13ca0be-8f1c-4222-95ff-4645afd858ff",
   "metadata": {},
   "outputs": [],
   "source": [
    "def find_unique_texts(source_file, comparison_file, output_file, num_samples=500):\n",
    "    \"\"\"\n",
    "    Находит тексты из source_file, которых нет в comparison_file, и сохраняет первые num_samples в output_file.\n",
    "    \n",
    "    Используется хеширование для оптимизации сравнения.\n",
    "    \"\"\"\n",
    "    # Загрузка данных\n",
    "    print(\"Загрузка файлов...\")\n",
    "    source_df = pd.read_csv(source_file)\n",
    "    comparison_df = pd.read_csv(comparison_file)\n",
    "    \n",
    "    # Получение столбца с текстами для сравнения\n",
    "    comparison_texts = set()\n",
    "    \n",
    "    # Хеширование текстов из comparison_file для быстрого поиска\n",
    "    print(\"Создание хеш-таблицы для быстрого сравнения...\")\n",
    "    for text in comparison_df.iloc[:, 0]:  # Первый столбец comparison_file\n",
    "        # Используем хеш для ускорения сравнения\n",
    "        text_hash = hashlib.md5(str(text).encode()).hexdigest()\n",
    "        comparison_texts.add(text_hash)\n",
    "    \n",
    "    # Поиск уникальных текстов\n",
    "    print(\"Поиск уникальных текстов...\")\n",
    "    unique_texts = []\n",
    "    \n",
    "    for text in source_df['text']:  # Второй столбец source_file\n",
    "        text_hash = hashlib.md5(str(text).encode()).hexdigest()\n",
    "        \n",
    "        if text_hash not in comparison_texts:\n",
    "            unique_texts.append(text)\n",
    "            \n",
    "            if len(unique_texts) >= num_samples:\n",
    "                break\n",
    "    \n",
    "    # Сохранение результатов\n",
    "    print(f\"Найдено {len(unique_texts)} уникальных текстов\")\n",
    "    result_df = pd.DataFrame({'unique_text': unique_texts})\n",
    "    result_df.to_csv(output_file, index=False)\n",
    "    print(f\"Результаты сохранены в {output_file}\")\n",
    "    \n",
    "    return len(unique_texts)"
   ]
  },
  {
   "cell_type": "code",
   "execution_count": 12,
   "id": "c221a0b8-3428-45d1-acfc-cb027d44a2ab",
   "metadata": {},
   "outputs": [
    {
     "name": "stdout",
     "output_type": "stream",
     "text": [
      "Загрузка файлов...\n",
      "Создание хеш-таблицы для быстрого сравнения...\n",
      "Поиск уникальных текстов...\n",
      "Найдено 300 уникальных текстов\n",
      "Результаты сохранены в unique_texts_500.csv\n",
      "Готово! Сохранено 300 уникальных текстов.\n"
     ]
    }
   ],
   "source": [
    "# Использование функции\n",
    "if __name__ == \"__main__\":\n",
    "    source_file = \"improvement_candidates_5.csv\"\n",
    "    comparison_file = \"finetuning_text_pairs_3.csv\"\n",
    "    output_file = \"unique_texts_500.csv\"\n",
    "    \n",
    "    count = find_unique_texts(source_file, comparison_file, output_file, 300)\n",
    "    print(f\"Готово! Сохранено {count} уникальных текстов.\")"
   ]
  },
  {
   "cell_type": "code",
   "execution_count": 22,
   "id": "ebb9800c-69ea-48dc-88aa-eed86e7adf04",
   "metadata": {},
   "outputs": [
    {
     "name": "stdout",
     "output_type": "stream",
     "text": [
      "Файл успешно преобразован и сохранен: unique_texts_500_formatted.xlsx\n"
     ]
    }
   ],
   "source": [
    "import pandas as pd\n",
    "import openpyxl\n",
    "from openpyxl.styles import Alignment\n",
    "\n",
    "def format_csv_to_excel(csv_file, excel_file):\n",
    "    \"\"\"\n",
    "    Преобразует готовый CSV файл в Excel с форматированием для русского текста.\n",
    "    Тексты размещаются в ячейке с автоматическим переносом строк.\n",
    "    \n",
    "    Args:\n",
    "        csv_file (str): Путь к исходному CSV файлу\n",
    "        excel_file (str): Путь для сохранения Excel файла\n",
    "    \"\"\"\n",
    "    # Загружаем CSV файл с правильной кодировкой для русского языка\n",
    "    df = pd.read_csv(csv_file, encoding='utf-8')\n",
    "    \n",
    "    # Сначала сохраняем в Excel формат\n",
    "    df.to_excel(excel_file, index=False, engine='openpyxl')\n",
    "    \n",
    "    # Открываем файл для форматирования\n",
    "    wb = openpyxl.load_workbook(excel_file)\n",
    "    ws = wb.active\n",
    "    \n",
    "    # Применяем форматирование к каждой ячейке\n",
    "    for row in ws.iter_rows():\n",
    "        for cell in row:\n",
    "            cell.alignment = Alignment(\n",
    "                wrap_text=True,        # Включаем перенос текста\n",
    "                vertical='top',        # Выравнивание по верху\n",
    "                horizontal='left'      # Выравнивание по левому краю\n",
    "            )\n",
    "    \n",
    "    # Устанавливаем оптимальную ширину для столбцов с русским текстом\n",
    "    for column in ws.columns:\n",
    "        column_letter = column[0].column_letter\n",
    "        ws.column_dimensions[column_letter].width = 100  # Широкие столбцы для удобства чтения\n",
    "    \n",
    "    # Сохраняем отформатированный файл\n",
    "    wb.save(excel_file)\n",
    "    print(f\"Файл успешно преобразован и сохранен: {excel_file}\")\n",
    "\n",
    "# Использование функции\n",
    "if __name__ == \"__main__\":\n",
    "    csv_file = \"unique_texts_500.csv\"\n",
    "    excel_file = \"unique_texts_500_formatted.xlsx\"\n",
    "    \n",
    "    format_csv_to_excel(csv_file, excel_file)"
   ]
  },
  {
   "cell_type": "code",
   "execution_count": null,
   "id": "2a6ec4b7-49d6-4122-9a53-3dbfaf0332cb",
   "metadata": {},
   "outputs": [],
   "source": []
  }
 ],
 "metadata": {
  "kernelspec": {
   "display_name": "Python [conda env:base] *",
   "language": "python",
   "name": "conda-base-py"
  },
  "language_info": {
   "codemirror_mode": {
    "name": "ipython",
    "version": 3
   },
   "file_extension": ".py",
   "mimetype": "text/x-python",
   "name": "python",
   "nbconvert_exporter": "python",
   "pygments_lexer": "ipython3",
   "version": "3.12.7"
  }
 },
 "nbformat": 4,
 "nbformat_minor": 5
}
